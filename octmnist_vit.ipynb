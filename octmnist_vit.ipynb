{
 "cells": [
  {
   "cell_type": "code",
   "execution_count": 2,
   "metadata": {},
   "outputs": [],
   "source": [
    "from tqdm import tqdm\n",
    "import numpy as np\n",
    "import torch\n",
    "import torch.nn as nn\n",
    "import torch.optim as optim\n",
    "import torch.utils.data as data\n",
    "import torchvision.transforms as transforms\n",
    "from torchvision.transforms import Resize\n",
    "from transformers import ViTForImageClassification\n",
    "from datasets import load_metric\n",
    "import medmnist\n",
    "from medmnist import INFO, Evaluator"
   ]
  },
  {
   "cell_type": "code",
   "execution_count": 3,
   "metadata": {},
   "outputs": [],
   "source": [
    "data_flag = 'octmnist'\n",
    "download = True\n",
    "\n",
    "NUM_EPOCHS = 3\n",
    "BATCH_SIZE = 128\n",
    "lr = 0.001\n",
    "\n",
    "info = INFO[data_flag]\n",
    "task = info['task']\n",
    "n_channels = info['n_channels']\n",
    "n_classes = len(info['label'])\n",
    "\n",
    "DataClass = getattr(medmnist, info['python_class'])"
   ]
  },
  {
   "cell_type": "code",
   "execution_count": 4,
   "metadata": {},
   "outputs": [
    {
     "name": "stdout",
     "output_type": "stream",
     "text": [
      "Using downloaded and verified file: /home/zhl038/.medmnist/octmnist.npz\n",
      "Using downloaded and verified file: /home/zhl038/.medmnist/octmnist.npz\n",
      "Using downloaded and verified file: /home/zhl038/.medmnist/octmnist.npz\n",
      "Using downloaded and verified file: /home/zhl038/.medmnist/octmnist.npz\n"
     ]
    }
   ],
   "source": [
    "# preprocessing\n",
    "data_transform = transforms.Compose([\n",
    "    transforms.ToTensor(),\n",
    "    transforms.Normalize(mean=[.5], std=[.5])\n",
    "])\n",
    "\n",
    "# load the data\n",
    "train_dataset = DataClass(split='train', transform=data_transform, download=download)\n",
    "eval_dataset = DataClass(split='val', transform=data_transform, download=download)\n",
    "test_dataset = DataClass(split='test', transform=data_transform, download=download)\n",
    "\n",
    "pil_dataset = DataClass(split='train', download=download)\n",
    "\n",
    "# encapsulate data into dataloader form\n",
    "train_loader = data.DataLoader(dataset=train_dataset, batch_size=BATCH_SIZE, shuffle=True)\n",
    "train_loader_at_eval = data.DataLoader(dataset=train_dataset, batch_size=2*BATCH_SIZE, shuffle=False)\n",
    "test_loader = data.DataLoader(dataset=test_dataset, batch_size=2*BATCH_SIZE, shuffle=False)"
   ]
  },
  {
   "cell_type": "code",
   "execution_count": 5,
   "metadata": {},
   "outputs": [],
   "source": [
    "from transformers import ViTFeatureExtractor\n",
    "\n",
    "model_name_or_path = 'google/vit-base-patch16-224-in21k'\n",
    "feature_extractor = ViTFeatureExtractor.from_pretrained(model_name_or_path)"
   ]
  },
  {
   "cell_type": "code",
   "execution_count": 6,
   "metadata": {},
   "outputs": [],
   "source": [
    "def process_example(example):\n",
    "    inputs = feature_extractor(example['image'], return_tensors='pt')\n",
    "    inputs['labels'] = example['labels']\n",
    "    return inputs"
   ]
  },
  {
   "cell_type": "code",
   "execution_count": 7,
   "metadata": {},
   "outputs": [],
   "source": [
    "def collate_fn(batch):\n",
    "    return {\n",
    "        'pixel_values': torch.stack([torch.squeeze(torch.stack((Resize(224)(x[0]),) * 3, axis = 0)) for x in batch]),\n",
    "        'labels': torch.tensor([x[1] for x in batch])\n",
    "    }"
   ]
  },
  {
   "cell_type": "code",
   "execution_count": 8,
   "metadata": {},
   "outputs": [],
   "source": [
    "\n",
    "def compute_metrics(p):\n",
    "    return metric.compute(predictions=np.argmax(p.predictions, axis=1), references=p.label_ids)"
   ]
  },
  {
   "cell_type": "code",
   "execution_count": 9,
   "metadata": {},
   "outputs": [
    {
     "name": "stderr",
     "output_type": "stream",
     "text": [
      "Some weights of the model checkpoint at google/vit-base-patch16-224-in21k were not used when initializing ViTForImageClassification: ['pooler.dense.weight', 'pooler.dense.bias']\n",
      "- This IS expected if you are initializing ViTForImageClassification from the checkpoint of a model trained on another task or with another architecture (e.g. initializing a BertForSequenceClassification model from a BertForPreTraining model).\n",
      "- This IS NOT expected if you are initializing ViTForImageClassification from the checkpoint of a model that you expect to be exactly identical (initializing a BertForSequenceClassification model from a BertForSequenceClassification model).\n",
      "Some weights of ViTForImageClassification were not initialized from the model checkpoint at google/vit-base-patch16-224-in21k and are newly initialized: ['classifier.weight', 'classifier.bias']\n",
      "You should probably TRAIN this model on a down-stream task to be able to use it for predictions and inference.\n"
     ]
    }
   ],
   "source": [
    "\n",
    "\n",
    "labels = train_dataset.info['label']\n",
    "metric = load_metric(\"accuracy\")\n",
    "model = ViTForImageClassification.from_pretrained(\n",
    "    model_name_or_path,\n",
    "    num_labels=len(labels),\n",
    "    id2label={str(i): c for i, c in enumerate(labels)},\n",
    "    label2id={c: str(i) for i, c in enumerate(labels)}\n",
    ")"
   ]
  },
  {
   "cell_type": "code",
   "execution_count": 10,
   "metadata": {},
   "outputs": [],
   "source": [
    "from transformers import TrainingArguments\n",
    "\n",
    "training_args = TrainingArguments(\n",
    "  output_dir=\"./vit-base-beans\",\n",
    "  per_device_train_batch_size=32,\n",
    "  per_device_eval_batch_size=32,\n",
    "  evaluation_strategy=\"steps\",\n",
    "  num_train_epochs=NUM_EPOCHS,\n",
    "  fp16=True,\n",
    "  save_steps=500,\n",
    "  eval_steps=500,\n",
    "  logging_steps=100,\n",
    "  learning_rate=2e-4,\n",
    "  save_total_limit=2,\n",
    "  remove_unused_columns=False,\n",
    "  push_to_hub=False,\n",
    "#   report_to='tensorboard',\n",
    "  load_best_model_at_end=True,\n",
    ")"
   ]
  },
  {
   "cell_type": "code",
   "execution_count": 11,
   "metadata": {},
   "outputs": [
    {
     "name": "stderr",
     "output_type": "stream",
     "text": [
      "Using amp half precision backend\n"
     ]
    }
   ],
   "source": [
    "from transformers import Trainer\n",
    "\n",
    "trainer = Trainer(\n",
    "    model=model,\n",
    "    args=training_args,\n",
    "    data_collator=collate_fn,\n",
    "    compute_metrics=compute_metrics,\n",
    "    train_dataset=train_dataset,\n",
    "    eval_dataset=eval_dataset,\n",
    "    tokenizer=feature_extractor,\n",
    ")"
   ]
  },
  {
   "cell_type": "code",
   "execution_count": 12,
   "metadata": {},
   "outputs": [
    {
     "name": "stderr",
     "output_type": "stream",
     "text": [
      "/home/zhl038/miniconda3/envs/ece228/lib/python3.9/site-packages/transformers/optimization.py:306: FutureWarning: This implementation of AdamW is deprecated and will be removed in a future version. Use the PyTorch implementation torch.optim.AdamW instead, or set `no_deprecation_warning=True` to disable this warning\n",
      "  warnings.warn(\n",
      "***** Running training *****\n",
      "  Num examples = 97477\n",
      "  Num Epochs = 3\n",
      "  Instantaneous batch size per device = 32\n",
      "  Total train batch size (w. parallel, distributed & accumulation) = 64\n",
      "  Gradient Accumulation steps = 1\n",
      "  Total optimization steps = 4572\n",
      "/tmp/ipykernel_77142/4251741760.py:4: UserWarning: Creating a tensor from a list of numpy.ndarrays is extremely slow. Please consider converting the list to a single numpy.ndarray with numpy.array() before converting to a tensor. (Triggered internally at  /opt/conda/conda-bld/pytorch_1646756402876/work/torch/csrc/utils/tensor_new.cpp:210.)\n",
      "  'labels': torch.tensor([x[1] for x in batch])\n",
      "/home/zhl038/miniconda3/envs/ece228/lib/python3.9/site-packages/torch/nn/parallel/_functions.py:68: UserWarning: Was asked to gather along dimension 0, but all input tensors were scalars; will instead unsqueeze and return a vector.\n",
      "  warnings.warn('Was asked to gather along dimension 0, but all '\n"
     ]
    },
    {
     "data": {
      "text/html": [
       "\n",
       "    <div>\n",
       "      \n",
       "      <progress value='4572' max='4572' style='width:300px; height:20px; vertical-align: middle;'></progress>\n",
       "      [4572/4572 47:17, Epoch 3/3]\n",
       "    </div>\n",
       "    <table border=\"1\" class=\"dataframe\">\n",
       "  <thead>\n",
       " <tr style=\"text-align: left;\">\n",
       "      <th>Step</th>\n",
       "      <th>Training Loss</th>\n",
       "      <th>Validation Loss</th>\n",
       "      <th>Accuracy</th>\n",
       "    </tr>\n",
       "  </thead>\n",
       "  <tbody>\n",
       "    <tr>\n",
       "      <td>500</td>\n",
       "      <td>0.336200</td>\n",
       "      <td>0.338959</td>\n",
       "      <td>0.885524</td>\n",
       "    </tr>\n",
       "    <tr>\n",
       "      <td>1000</td>\n",
       "      <td>0.265700</td>\n",
       "      <td>0.261041</td>\n",
       "      <td>0.916728</td>\n",
       "    </tr>\n",
       "    <tr>\n",
       "      <td>1500</td>\n",
       "      <td>0.250900</td>\n",
       "      <td>0.276622</td>\n",
       "      <td>0.907866</td>\n",
       "    </tr>\n",
       "    <tr>\n",
       "      <td>2000</td>\n",
       "      <td>0.208600</td>\n",
       "      <td>0.221090</td>\n",
       "      <td>0.927806</td>\n",
       "    </tr>\n",
       "    <tr>\n",
       "      <td>2500</td>\n",
       "      <td>0.198400</td>\n",
       "      <td>0.204410</td>\n",
       "      <td>0.933623</td>\n",
       "    </tr>\n",
       "    <tr>\n",
       "      <td>3000</td>\n",
       "      <td>0.186500</td>\n",
       "      <td>0.197979</td>\n",
       "      <td>0.936115</td>\n",
       "    </tr>\n",
       "    <tr>\n",
       "      <td>3500</td>\n",
       "      <td>0.133600</td>\n",
       "      <td>0.199917</td>\n",
       "      <td>0.937131</td>\n",
       "    </tr>\n",
       "    <tr>\n",
       "      <td>4000</td>\n",
       "      <td>0.124100</td>\n",
       "      <td>0.177992</td>\n",
       "      <td>0.941562</td>\n",
       "    </tr>\n",
       "    <tr>\n",
       "      <td>4500</td>\n",
       "      <td>0.103000</td>\n",
       "      <td>0.172229</td>\n",
       "      <td>0.945716</td>\n",
       "    </tr>\n",
       "  </tbody>\n",
       "</table><p>"
      ],
      "text/plain": [
       "<IPython.core.display.HTML object>"
      ]
     },
     "metadata": {},
     "output_type": "display_data"
    },
    {
     "name": "stderr",
     "output_type": "stream",
     "text": [
      "***** Running Evaluation *****\n",
      "  Num examples = 10832\n",
      "  Batch size = 32\n",
      "Saving model checkpoint to ./vit-base-beans/checkpoint-500\n",
      "Configuration saved in ./vit-base-beans/checkpoint-500/config.json\n",
      "Model weights saved in ./vit-base-beans/checkpoint-500/pytorch_model.bin\n",
      "Feature extractor saved in ./vit-base-beans/checkpoint-500/preprocessor_config.json\n",
      "Deleting older checkpoint [vit-base-beans/checkpoint-2500] due to args.save_total_limit\n",
      "/home/zhl038/miniconda3/envs/ece228/lib/python3.9/site-packages/torch/nn/parallel/_functions.py:68: UserWarning: Was asked to gather along dimension 0, but all input tensors were scalars; will instead unsqueeze and return a vector.\n",
      "  warnings.warn('Was asked to gather along dimension 0, but all '\n",
      "***** Running Evaluation *****\n",
      "  Num examples = 10832\n",
      "  Batch size = 32\n",
      "Saving model checkpoint to ./vit-base-beans/checkpoint-1000\n",
      "Configuration saved in ./vit-base-beans/checkpoint-1000/config.json\n",
      "Model weights saved in ./vit-base-beans/checkpoint-1000/pytorch_model.bin\n",
      "Feature extractor saved in ./vit-base-beans/checkpoint-1000/preprocessor_config.json\n",
      "Deleting older checkpoint [vit-base-beans/checkpoint-3000] due to args.save_total_limit\n",
      "/home/zhl038/miniconda3/envs/ece228/lib/python3.9/site-packages/torch/nn/parallel/_functions.py:68: UserWarning: Was asked to gather along dimension 0, but all input tensors were scalars; will instead unsqueeze and return a vector.\n",
      "  warnings.warn('Was asked to gather along dimension 0, but all '\n",
      "***** Running Evaluation *****\n",
      "  Num examples = 10832\n",
      "  Batch size = 32\n",
      "Saving model checkpoint to ./vit-base-beans/checkpoint-1500\n",
      "Configuration saved in ./vit-base-beans/checkpoint-1500/config.json\n",
      "Model weights saved in ./vit-base-beans/checkpoint-1500/pytorch_model.bin\n",
      "Feature extractor saved in ./vit-base-beans/checkpoint-1500/preprocessor_config.json\n",
      "Deleting older checkpoint [vit-base-beans/checkpoint-500] due to args.save_total_limit\n",
      "/home/zhl038/miniconda3/envs/ece228/lib/python3.9/site-packages/torch/nn/parallel/_functions.py:68: UserWarning: Was asked to gather along dimension 0, but all input tensors were scalars; will instead unsqueeze and return a vector.\n",
      "  warnings.warn('Was asked to gather along dimension 0, but all '\n",
      "***** Running Evaluation *****\n",
      "  Num examples = 10832\n",
      "  Batch size = 32\n",
      "Saving model checkpoint to ./vit-base-beans/checkpoint-2000\n",
      "Configuration saved in ./vit-base-beans/checkpoint-2000/config.json\n",
      "Model weights saved in ./vit-base-beans/checkpoint-2000/pytorch_model.bin\n",
      "Feature extractor saved in ./vit-base-beans/checkpoint-2000/preprocessor_config.json\n",
      "Deleting older checkpoint [vit-base-beans/checkpoint-1000] due to args.save_total_limit\n",
      "/home/zhl038/miniconda3/envs/ece228/lib/python3.9/site-packages/torch/nn/parallel/_functions.py:68: UserWarning: Was asked to gather along dimension 0, but all input tensors were scalars; will instead unsqueeze and return a vector.\n",
      "  warnings.warn('Was asked to gather along dimension 0, but all '\n",
      "***** Running Evaluation *****\n",
      "  Num examples = 10832\n",
      "  Batch size = 32\n",
      "Saving model checkpoint to ./vit-base-beans/checkpoint-2500\n",
      "Configuration saved in ./vit-base-beans/checkpoint-2500/config.json\n",
      "Model weights saved in ./vit-base-beans/checkpoint-2500/pytorch_model.bin\n",
      "Feature extractor saved in ./vit-base-beans/checkpoint-2500/preprocessor_config.json\n",
      "Deleting older checkpoint [vit-base-beans/checkpoint-1500] due to args.save_total_limit\n",
      "/home/zhl038/miniconda3/envs/ece228/lib/python3.9/site-packages/torch/nn/parallel/_functions.py:68: UserWarning: Was asked to gather along dimension 0, but all input tensors were scalars; will instead unsqueeze and return a vector.\n",
      "  warnings.warn('Was asked to gather along dimension 0, but all '\n",
      "***** Running Evaluation *****\n",
      "  Num examples = 10832\n",
      "  Batch size = 32\n",
      "Saving model checkpoint to ./vit-base-beans/checkpoint-3000\n",
      "Configuration saved in ./vit-base-beans/checkpoint-3000/config.json\n",
      "Model weights saved in ./vit-base-beans/checkpoint-3000/pytorch_model.bin\n",
      "Feature extractor saved in ./vit-base-beans/checkpoint-3000/preprocessor_config.json\n",
      "Deleting older checkpoint [vit-base-beans/checkpoint-2000] due to args.save_total_limit\n",
      "/home/zhl038/miniconda3/envs/ece228/lib/python3.9/site-packages/torch/nn/parallel/_functions.py:68: UserWarning: Was asked to gather along dimension 0, but all input tensors were scalars; will instead unsqueeze and return a vector.\n",
      "  warnings.warn('Was asked to gather along dimension 0, but all '\n",
      "***** Running Evaluation *****\n",
      "  Num examples = 10832\n",
      "  Batch size = 32\n",
      "Saving model checkpoint to ./vit-base-beans/checkpoint-3500\n",
      "Configuration saved in ./vit-base-beans/checkpoint-3500/config.json\n",
      "Model weights saved in ./vit-base-beans/checkpoint-3500/pytorch_model.bin\n",
      "Feature extractor saved in ./vit-base-beans/checkpoint-3500/preprocessor_config.json\n",
      "Deleting older checkpoint [vit-base-beans/checkpoint-2500] due to args.save_total_limit\n",
      "/home/zhl038/miniconda3/envs/ece228/lib/python3.9/site-packages/torch/nn/parallel/_functions.py:68: UserWarning: Was asked to gather along dimension 0, but all input tensors were scalars; will instead unsqueeze and return a vector.\n",
      "  warnings.warn('Was asked to gather along dimension 0, but all '\n",
      "***** Running Evaluation *****\n",
      "  Num examples = 10832\n",
      "  Batch size = 32\n",
      "Saving model checkpoint to ./vit-base-beans/checkpoint-4000\n",
      "Configuration saved in ./vit-base-beans/checkpoint-4000/config.json\n",
      "Model weights saved in ./vit-base-beans/checkpoint-4000/pytorch_model.bin\n",
      "Feature extractor saved in ./vit-base-beans/checkpoint-4000/preprocessor_config.json\n",
      "Deleting older checkpoint [vit-base-beans/checkpoint-3000] due to args.save_total_limit\n",
      "/home/zhl038/miniconda3/envs/ece228/lib/python3.9/site-packages/torch/nn/parallel/_functions.py:68: UserWarning: Was asked to gather along dimension 0, but all input tensors were scalars; will instead unsqueeze and return a vector.\n",
      "  warnings.warn('Was asked to gather along dimension 0, but all '\n",
      "***** Running Evaluation *****\n",
      "  Num examples = 10832\n",
      "  Batch size = 32\n",
      "Saving model checkpoint to ./vit-base-beans/checkpoint-4500\n",
      "Configuration saved in ./vit-base-beans/checkpoint-4500/config.json\n",
      "Model weights saved in ./vit-base-beans/checkpoint-4500/pytorch_model.bin\n",
      "Feature extractor saved in ./vit-base-beans/checkpoint-4500/preprocessor_config.json\n",
      "Deleting older checkpoint [vit-base-beans/checkpoint-3500] due to args.save_total_limit\n",
      "/home/zhl038/miniconda3/envs/ece228/lib/python3.9/site-packages/torch/nn/parallel/_functions.py:68: UserWarning: Was asked to gather along dimension 0, but all input tensors were scalars; will instead unsqueeze and return a vector.\n",
      "  warnings.warn('Was asked to gather along dimension 0, but all '\n",
      "\n",
      "\n",
      "Training completed. Do not forget to share your model on huggingface.co/models =)\n",
      "\n",
      "\n",
      "Loading best model from ./vit-base-beans/checkpoint-4500 (score: 0.1722286492586136).\n",
      "Saving model checkpoint to ./vit-base-beans\n",
      "Configuration saved in ./vit-base-beans/config.json\n",
      "Model weights saved in ./vit-base-beans/pytorch_model.bin\n",
      "Feature extractor saved in ./vit-base-beans/preprocessor_config.json\n"
     ]
    },
    {
     "name": "stdout",
     "output_type": "stream",
     "text": [
      "***** train metrics *****\n",
      "  epoch                    =           3.0\n",
      "  total_flos               = 21105135067GF\n",
      "  train_loss               =         0.214\n",
      "  train_runtime            =    0:47:34.07\n",
      "  train_samples_per_second =       102.461\n",
      "  train_steps_per_second   =         1.602\n"
     ]
    }
   ],
   "source": [
    "train_results = trainer.train()\n",
    "trainer.save_model()\n",
    "trainer.log_metrics(\"train\", train_results.metrics)\n",
    "trainer.save_metrics(\"train\", train_results.metrics)\n",
    "trainer.save_state()"
   ]
  },
  {
   "cell_type": "code",
   "execution_count": 13,
   "metadata": {},
   "outputs": [
    {
     "name": "stderr",
     "output_type": "stream",
     "text": [
      "***** Running Evaluation *****\n",
      "  Num examples = 1000\n",
      "  Batch size = 32\n"
     ]
    },
    {
     "data": {
      "text/html": [
       "\n",
       "    <div>\n",
       "      \n",
       "      <progress value='16' max='16' style='width:300px; height:20px; vertical-align: middle;'></progress>\n",
       "      [16/16 00:04]\n",
       "    </div>\n",
       "    "
      ],
      "text/plain": [
       "<IPython.core.display.HTML object>"
      ]
     },
     "metadata": {},
     "output_type": "display_data"
    },
    {
     "name": "stdout",
     "output_type": "stream",
     "text": [
      "***** eval metrics *****\n",
      "  epoch                   =        3.0\n",
      "  eval_accuracy           =      0.804\n",
      "  eval_loss               =     0.6555\n",
      "  eval_runtime            = 0:00:04.41\n",
      "  eval_samples_per_second =    226.341\n",
      "  eval_steps_per_second   =      3.621\n"
     ]
    }
   ],
   "source": [
    "metrics = trainer.evaluate(test_dataset)\n",
    "trainer.log_metrics(\"eval\", metrics)\n",
    "trainer.save_metrics(\"eval\", metrics)"
   ]
  },
  {
   "cell_type": "code",
   "execution_count": null,
   "metadata": {},
   "outputs": [],
   "source": []
  }
 ],
 "metadata": {
  "kernelspec": {
   "display_name": "Python 3 (ipykernel)",
   "language": "python",
   "name": "python3"
  },
  "language_info": {
   "codemirror_mode": {
    "name": "ipython",
    "version": 3
   },
   "file_extension": ".py",
   "mimetype": "text/x-python",
   "name": "python",
   "nbconvert_exporter": "python",
   "pygments_lexer": "ipython3",
   "version": "3.9.12"
  }
 },
 "nbformat": 4,
 "nbformat_minor": 2
}
